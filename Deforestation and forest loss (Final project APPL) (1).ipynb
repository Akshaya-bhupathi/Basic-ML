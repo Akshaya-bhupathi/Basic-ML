{
 "cells": [
  {
   "cell_type": "code",
   "execution_count": 1,
   "id": "35b02b7f",
   "metadata": {},
   "outputs": [],
   "source": [
    "# FINAL PROJECT APPL\n",
    "# DEFORESTATION AND FOREST LOSS"
   ]
  },
  {
   "cell_type": "code",
   "execution_count": 2,
   "id": "df2e96db",
   "metadata": {},
   "outputs": [
    {
     "name": "stdout",
     "output_type": "stream",
     "text": [
      "Requirement already satisfied: numpy in c:\\users\\srinivas\\anaconda3\\lib\\site-packages (1.20.1)\n",
      "Requirement already satisfied: pandas in c:\\users\\srinivas\\anaconda3\\lib\\site-packages (1.2.4)\n",
      "Requirement already satisfied: sklearn in c:\\users\\srinivas\\anaconda3\\lib\\site-packages (0.0)\n",
      "Requirement already satisfied: pytz>=2017.3 in c:\\users\\srinivas\\anaconda3\\lib\\site-packages (from pandas) (2021.1)\n",
      "Requirement already satisfied: python-dateutil>=2.7.3 in c:\\users\\srinivas\\anaconda3\\lib\\site-packages (from pandas) (2.8.1)\n",
      "Requirement already satisfied: six>=1.5 in c:\\users\\srinivas\\anaconda3\\lib\\site-packages (from python-dateutil>=2.7.3->pandas) (1.15.0)\n",
      "Requirement already satisfied: scikit-learn in c:\\users\\srinivas\\anaconda3\\lib\\site-packages (from sklearn) (0.24.1)\n",
      "Requirement already satisfied: scipy>=0.19.1 in c:\\users\\srinivas\\anaconda3\\lib\\site-packages (from scikit-learn->sklearn) (1.6.2)\n",
      "Requirement already satisfied: threadpoolctl>=2.0.0 in c:\\users\\srinivas\\anaconda3\\lib\\site-packages (from scikit-learn->sklearn) (2.1.0)\n",
      "Requirement already satisfied: joblib>=0.11 in c:\\users\\srinivas\\anaconda3\\lib\\site-packages (from scikit-learn->sklearn) (1.0.1)\n",
      "Note: you may need to restart the kernel to use updated packages.\n"
     ]
    }
   ],
   "source": [
    "pip install numpy pandas sklearn"
   ]
  },
  {
   "cell_type": "code",
   "execution_count": 3,
   "id": "de080971",
   "metadata": {},
   "outputs": [],
   "source": [
    "# import libraries\n",
    "import pandas as pd\n",
    "import numpy as np\n",
    "import matplotlib.pyplot as plt\n",
    "import seaborn as sns\n",
    "import itertools\n",
    "from sklearn.model_selection import train_test_split\n",
    "from sklearn.metrics import accuracy_score, confusion_matrix"
   ]
  },
  {
   "cell_type": "markdown",
   "id": "82938616",
   "metadata": {},
   "source": [
    "# Reading data from csv file"
   ]
  },
  {
   "cell_type": "code",
   "execution_count": 4,
   "id": "512354be",
   "metadata": {},
   "outputs": [
    {
     "name": "stdout",
     "output_type": "stream",
     "text": [
      "data imported successfully\n"
     ]
    }
   ],
   "source": [
    "my_data = pd.read_csv(\"annual-change-forest-area.csv\")\n",
    "print(\"data imported successfully\")  "
   ]
  },
  {
   "cell_type": "code",
   "execution_count": 5,
   "id": "2cf6077e",
   "metadata": {},
   "outputs": [
    {
     "data": {
      "text/html": [
       "<div>\n",
       "<style scoped>\n",
       "    .dataframe tbody tr th:only-of-type {\n",
       "        vertical-align: middle;\n",
       "    }\n",
       "\n",
       "    .dataframe tbody tr th {\n",
       "        vertical-align: top;\n",
       "    }\n",
       "\n",
       "    .dataframe thead th {\n",
       "        text-align: right;\n",
       "    }\n",
       "</style>\n",
       "<table border=\"1\" class=\"dataframe\">\n",
       "  <thead>\n",
       "    <tr style=\"text-align: right;\">\n",
       "      <th></th>\n",
       "      <th>Entity</th>\n",
       "      <th>Code</th>\n",
       "      <th>Year</th>\n",
       "      <th>Net forest conversion</th>\n",
       "    </tr>\n",
       "  </thead>\n",
       "  <tbody>\n",
       "    <tr>\n",
       "      <th>0</th>\n",
       "      <td>Algeria</td>\n",
       "      <td>DZA</td>\n",
       "      <td>1990</td>\n",
       "      <td>-8800</td>\n",
       "    </tr>\n",
       "    <tr>\n",
       "      <th>1</th>\n",
       "      <td>Algeria</td>\n",
       "      <td>DZA</td>\n",
       "      <td>2000</td>\n",
       "      <td>33900</td>\n",
       "    </tr>\n",
       "    <tr>\n",
       "      <th>2</th>\n",
       "      <td>Algeria</td>\n",
       "      <td>DZA</td>\n",
       "      <td>2010</td>\n",
       "      <td>7600</td>\n",
       "    </tr>\n",
       "    <tr>\n",
       "      <th>3</th>\n",
       "      <td>Algeria</td>\n",
       "      <td>DZA</td>\n",
       "      <td>2015</td>\n",
       "      <td>-1400</td>\n",
       "    </tr>\n",
       "    <tr>\n",
       "      <th>4</th>\n",
       "      <td>Argentina</td>\n",
       "      <td>ARG</td>\n",
       "      <td>1990</td>\n",
       "      <td>-182600</td>\n",
       "    </tr>\n",
       "  </tbody>\n",
       "</table>\n",
       "</div>"
      ],
      "text/plain": [
       "      Entity Code  Year  Net forest conversion\n",
       "0    Algeria  DZA  1990                  -8800\n",
       "1    Algeria  DZA  2000                  33900\n",
       "2    Algeria  DZA  2010                   7600\n",
       "3    Algeria  DZA  2015                  -1400\n",
       "4  Argentina  ARG  1990                -182600"
      ]
     },
     "execution_count": 5,
     "metadata": {},
     "output_type": "execute_result"
    }
   ],
   "source": [
    "my_data.head()"
   ]
  },
  {
   "cell_type": "code",
   "execution_count": 6,
   "id": "64e8d829",
   "metadata": {},
   "outputs": [
    {
     "data": {
      "text/html": [
       "<div>\n",
       "<style scoped>\n",
       "    .dataframe tbody tr th:only-of-type {\n",
       "        vertical-align: middle;\n",
       "    }\n",
       "\n",
       "    .dataframe tbody tr th {\n",
       "        vertical-align: top;\n",
       "    }\n",
       "\n",
       "    .dataframe thead th {\n",
       "        text-align: right;\n",
       "    }\n",
       "</style>\n",
       "<table border=\"1\" class=\"dataframe\">\n",
       "  <thead>\n",
       "    <tr style=\"text-align: right;\">\n",
       "      <th></th>\n",
       "      <th>Entity</th>\n",
       "      <th>Code</th>\n",
       "      <th>Year</th>\n",
       "      <th>Net forest conversion</th>\n",
       "    </tr>\n",
       "  </thead>\n",
       "  <tbody>\n",
       "    <tr>\n",
       "      <th>470</th>\n",
       "      <td>Zambia</td>\n",
       "      <td>ZMB</td>\n",
       "      <td>2015</td>\n",
       "      <td>-188210</td>\n",
       "    </tr>\n",
       "    <tr>\n",
       "      <th>471</th>\n",
       "      <td>Zimbabwe</td>\n",
       "      <td>ZWE</td>\n",
       "      <td>1990</td>\n",
       "      <td>-46070</td>\n",
       "    </tr>\n",
       "    <tr>\n",
       "      <th>472</th>\n",
       "      <td>Zimbabwe</td>\n",
       "      <td>ZWE</td>\n",
       "      <td>2000</td>\n",
       "      <td>-46070</td>\n",
       "    </tr>\n",
       "    <tr>\n",
       "      <th>473</th>\n",
       "      <td>Zimbabwe</td>\n",
       "      <td>ZWE</td>\n",
       "      <td>2010</td>\n",
       "      <td>-46070</td>\n",
       "    </tr>\n",
       "    <tr>\n",
       "      <th>474</th>\n",
       "      <td>Zimbabwe</td>\n",
       "      <td>ZWE</td>\n",
       "      <td>2015</td>\n",
       "      <td>-46070</td>\n",
       "    </tr>\n",
       "  </tbody>\n",
       "</table>\n",
       "</div>"
      ],
      "text/plain": [
       "       Entity Code  Year  Net forest conversion\n",
       "470    Zambia  ZMB  2015                -188210\n",
       "471  Zimbabwe  ZWE  1990                 -46070\n",
       "472  Zimbabwe  ZWE  2000                 -46070\n",
       "473  Zimbabwe  ZWE  2010                 -46070\n",
       "474  Zimbabwe  ZWE  2015                 -46070"
      ]
     },
     "execution_count": 6,
     "metadata": {},
     "output_type": "execute_result"
    }
   ],
   "source": [
    "my_data.tail() "
   ]
  },
  {
   "cell_type": "code",
   "execution_count": 7,
   "id": "1419a976",
   "metadata": {},
   "outputs": [
    {
     "name": "stdout",
     "output_type": "stream",
     "text": [
      "<class 'pandas.core.frame.DataFrame'>\n",
      "RangeIndex: 475 entries, 0 to 474\n",
      "Data columns (total 4 columns):\n",
      " #   Column                 Non-Null Count  Dtype \n",
      "---  ------                 --------------  ----- \n",
      " 0   Entity                 475 non-null    object\n",
      " 1   Code                   467 non-null    object\n",
      " 2   Year                   475 non-null    int64 \n",
      " 3   Net forest conversion  475 non-null    int64 \n",
      "dtypes: int64(2), object(2)\n",
      "memory usage: 15.0+ KB\n"
     ]
    }
   ],
   "source": [
    "my_data.info()"
   ]
  },
  {
   "cell_type": "code",
   "execution_count": 8,
   "id": "a97b08de",
   "metadata": {},
   "outputs": [
    {
     "data": {
      "text/plain": [
       "Year  Net forest conversion\n",
       "1990  -7818000                 1\n",
       "      -3780940                 1\n",
       "      -1726500                 1\n",
       "      -435000                  1\n",
       "      -372000                  1\n",
       "                              ..\n",
       "2015   116250                  1\n",
       "       118010                  1\n",
       "       122920                  1\n",
       "       266400                  1\n",
       "       1936790                 1\n",
       "Name: Year, Length: 393, dtype: int64"
      ]
     },
     "execution_count": 8,
     "metadata": {},
     "output_type": "execute_result"
    }
   ],
   "source": [
    "count = my_data.groupby(['Year','Net forest conversion'])['Year'].count()\n",
    "count"
   ]
  },
  {
   "cell_type": "code",
   "execution_count": 9,
   "id": "ee809427",
   "metadata": {},
   "outputs": [
    {
     "data": {
      "text/html": [
       "<div>\n",
       "<style scoped>\n",
       "    .dataframe tbody tr th:only-of-type {\n",
       "        vertical-align: middle;\n",
       "    }\n",
       "\n",
       "    .dataframe tbody tr th {\n",
       "        vertical-align: top;\n",
       "    }\n",
       "\n",
       "    .dataframe thead th {\n",
       "        text-align: right;\n",
       "    }\n",
       "</style>\n",
       "<table border=\"1\" class=\"dataframe\">\n",
       "  <thead>\n",
       "    <tr style=\"text-align: right;\">\n",
       "      <th></th>\n",
       "      <th>Year</th>\n",
       "      <th>Net forest conversion</th>\n",
       "    </tr>\n",
       "  </thead>\n",
       "  <tbody>\n",
       "    <tr>\n",
       "      <th>count</th>\n",
       "      <td>475.000000</td>\n",
       "      <td>4.750000e+02</td>\n",
       "    </tr>\n",
       "    <tr>\n",
       "      <th>mean</th>\n",
       "      <td>2004.326316</td>\n",
       "      <td>-7.693103e+04</td>\n",
       "    </tr>\n",
       "    <tr>\n",
       "      <th>std</th>\n",
       "      <td>9.360842</td>\n",
       "      <td>6.393544e+05</td>\n",
       "    </tr>\n",
       "    <tr>\n",
       "      <th>min</th>\n",
       "      <td>1990.000000</td>\n",
       "      <td>-7.818000e+06</td>\n",
       "    </tr>\n",
       "    <tr>\n",
       "      <th>25%</th>\n",
       "      <td>2000.000000</td>\n",
       "      <td>-3.026000e+04</td>\n",
       "    </tr>\n",
       "    <tr>\n",
       "      <th>50%</th>\n",
       "      <td>2010.000000</td>\n",
       "      <td>0.000000e+00</td>\n",
       "    </tr>\n",
       "    <tr>\n",
       "      <th>75%</th>\n",
       "      <td>2015.000000</td>\n",
       "      <td>3.205000e+03</td>\n",
       "    </tr>\n",
       "    <tr>\n",
       "      <th>max</th>\n",
       "      <td>2015.000000</td>\n",
       "      <td>2.360980e+06</td>\n",
       "    </tr>\n",
       "  </tbody>\n",
       "</table>\n",
       "</div>"
      ],
      "text/plain": [
       "              Year  Net forest conversion\n",
       "count   475.000000           4.750000e+02\n",
       "mean   2004.326316          -7.693103e+04\n",
       "std       9.360842           6.393544e+05\n",
       "min    1990.000000          -7.818000e+06\n",
       "25%    2000.000000          -3.026000e+04\n",
       "50%    2010.000000           0.000000e+00\n",
       "75%    2015.000000           3.205000e+03\n",
       "max    2015.000000           2.360980e+06"
      ]
     },
     "execution_count": 9,
     "metadata": {},
     "output_type": "execute_result"
    }
   ],
   "source": [
    "my_data.describe()"
   ]
  },
  {
   "cell_type": "code",
   "execution_count": 10,
   "id": "0af6136d",
   "metadata": {},
   "outputs": [
    {
     "data": {
      "text/plain": [
       "(475, 4)"
      ]
     },
     "execution_count": 10,
     "metadata": {},
     "output_type": "execute_result"
    }
   ],
   "source": [
    "my_data.shape"
   ]
  },
  {
   "cell_type": "code",
   "execution_count": 11,
   "id": "4d65ab4e",
   "metadata": {},
   "outputs": [
    {
     "data": {
      "text/plain": [
       "Index(['Entity', 'Code', 'Year', 'Net forest conversion'], dtype='object')"
      ]
     },
     "execution_count": 11,
     "metadata": {},
     "output_type": "execute_result"
    }
   ],
   "source": [
    "my_data.columns"
   ]
  },
  {
   "cell_type": "code",
   "execution_count": 12,
   "id": "52477d14",
   "metadata": {},
   "outputs": [
    {
     "data": {
      "text/plain": [
       "Entity                   132\n",
       "Code                     130\n",
       "Year                       4\n",
       "Net forest conversion    315\n",
       "dtype: int64"
      ]
     },
     "execution_count": 12,
     "metadata": {},
     "output_type": "execute_result"
    }
   ],
   "source": [
    "my_data.nunique()"
   ]
  },
  {
   "cell_type": "markdown",
   "id": "4c73a0f6",
   "metadata": {},
   "source": [
    "# Checking null values"
   ]
  },
  {
   "cell_type": "code",
   "execution_count": 13,
   "id": "4d5a8648",
   "metadata": {},
   "outputs": [
    {
     "data": {
      "text/plain": [
       "Entity                   0\n",
       "Code                     8\n",
       "Year                     0\n",
       "Net forest conversion    0\n",
       "dtype: int64"
      ]
     },
     "execution_count": 13,
     "metadata": {},
     "output_type": "execute_result"
    }
   ],
   "source": [
    "my_data.isnull().sum()"
   ]
  },
  {
   "cell_type": "code",
   "execution_count": 14,
   "id": "c8846cc6",
   "metadata": {},
   "outputs": [
    {
     "data": {
      "text/plain": [
       "Index(['Entity', 'Code', 'Year', 'Net forest conversion'], dtype='object')"
      ]
     },
     "execution_count": 14,
     "metadata": {},
     "output_type": "execute_result"
    }
   ],
   "source": [
    "my_data.columns"
   ]
  },
  {
   "cell_type": "markdown",
   "id": "57e663b8",
   "metadata": {},
   "source": [
    "# Data Visualisation\n",
    "GRAPHS IN DIFFERENT STYLES "
   ]
  },
  {
   "cell_type": "code",
   "execution_count": 15,
   "id": "2f1a2366",
   "metadata": {},
   "outputs": [
    {
     "name": "stderr",
     "output_type": "stream",
     "text": [
      "C:\\Users\\Srinivas\\anaconda3\\lib\\site-packages\\seaborn\\categorical.py:1296: UserWarning: 70.2% of the points cannot be placed; you may want to decrease the size of the markers or use stripplot.\n",
      "  warnings.warn(msg, UserWarning)\n",
      "C:\\Users\\Srinivas\\anaconda3\\lib\\site-packages\\seaborn\\categorical.py:1296: UserWarning: 70.5% of the points cannot be placed; you may want to decrease the size of the markers or use stripplot.\n",
      "  warnings.warn(msg, UserWarning)\n",
      "C:\\Users\\Srinivas\\anaconda3\\lib\\site-packages\\seaborn\\categorical.py:1296: UserWarning: 74.2% of the points cannot be placed; you may want to decrease the size of the markers or use stripplot.\n",
      "  warnings.warn(msg, UserWarning)\n",
      "C:\\Users\\Srinivas\\anaconda3\\lib\\site-packages\\seaborn\\categorical.py:1296: UserWarning: 74.4% of the points cannot be placed; you may want to decrease the size of the markers or use stripplot.\n",
      "  warnings.warn(msg, UserWarning)\n"
     ]
    },
    {
     "data": {
      "image/png": "[encoded data removed]",
      "text/plain": [
       "<Figure size 360x360 with 1 Axes>"
      ]
     },
     "metadata": {
      "needs_background": "light"
     },
     "output_type": "display_data"
    }
   ],
   "source": [
    "# Graph 1\n",
    "sns.catplot(data = my_data,kind = 'swarm', x = 'Year', y = 'Net forest conversion')\n",
    "plt.title('Year vs Net forest conversion')\n",
    "plt.xlabel('Year')\n",
    "plt.ylabel('Net forest conversion')\n",
    "plt.show()"
   ]
  },
  {
   "cell_type": "code",
   "execution_count": 16,
   "id": "139def8c",
   "metadata": {},
   "outputs": [
    {
     "data": {
      "image/png": "[encoded data removed]",
      "text/plain": [
       "<Figure size 936x576 with 1 Axes>"
      ]
     },
     "metadata": {
      "needs_background": "light"
     },
     "output_type": "display_data"
    }
   ],
   "source": [
    "# GRAPH 2\n",
    "plt.figure(figsize = (13,8))\n",
    "sns.barplot(data = my_data, x = 'Year', y = 'Net forest conversion')\n",
    "plt.title('Year vs Net forest conversion')\n",
    "plt.xlabel('Year')\n",
    "plt.ylabel('Net forest conversion')\n",
    "plt.show()"
   ]
  },
  {
   "cell_type": "code",
   "execution_count": 17,
   "id": "db2687c7",
   "metadata": {},
   "outputs": [
    {
     "data": {
      "image/png": "[encoded data removed]",
      "text/plain": [
       "<Figure size 432x432 with 3 Axes>"
      ]
     },
     "metadata": {
      "needs_background": "light"
     },
     "output_type": "display_data"
    }
   ],
   "source": [
    "# GRAPH 3\n",
    "sns.jointplot(data = my_data, x = 'Year', y = 'Net forest conversion')\n",
    "plt.title('Year vs Net forest conversion')\n",
    "plt.xlabel('year')\n",
    "plt.ylabel('Net forest conversion')\n",
    "plt.show()"
   ]
  },
  {
   "cell_type": "code",
   "execution_count": 18,
   "id": "11f15f5c",
   "metadata": {},
   "outputs": [
    {
     "name": "stdout",
     "output_type": "stream",
     "text": [
      "[[1990]\n",
      " [2000]\n",
      " [2010]\n",
      " [2015]\n",
      " [1990]\n",
      " [2000]\n",
      " [2010]\n",
      " [2015]\n",
      " [1990]\n",
      " [2000]\n",
      " [2010]\n",
      " [2015]\n",
      " [1990]\n",
      " [2000]\n",
      " [2010]\n",
      " [1990]\n",
      " [2000]\n",
      " [2010]\n",
      " [2015]\n",
      " [2010]\n",
      " [2015]\n",
      " [1990]\n",
      " [2000]\n",
      " [2010]\n",
      " [2015]\n",
      " [1990]\n",
      " [2000]\n",
      " [2010]\n",
      " [2015]\n",
      " [2000]\n",
      " [2010]\n",
      " [2015]\n",
      " [2010]\n",
      " [2015]\n",
      " [1990]\n",
      " [2000]\n",
      " [2010]\n",
      " [2015]\n",
      " [1990]\n",
      " [2000]\n",
      " [2010]\n",
      " [2015]\n",
      " [1990]\n",
      " [2000]\n",
      " [2010]\n",
      " [2015]\n",
      " [1990]\n",
      " [2000]\n",
      " [2010]\n",
      " [2015]\n",
      " [1990]\n",
      " [2000]\n",
      " [2010]\n",
      " [2015]\n",
      " [1990]\n",
      " [2000]\n",
      " [2010]\n",
      " [2015]\n",
      " [1990]\n",
      " [2000]\n",
      " [2010]\n",
      " [2015]\n",
      " [1990]\n",
      " [2000]\n",
      " [2010]\n",
      " [2015]\n",
      " [2000]\n",
      " [2010]\n",
      " [2015]\n",
      " [1990]\n",
      " [2000]\n",
      " [2010]\n",
      " [2015]\n",
      " [1990]\n",
      " [2000]\n",
      " [2010]\n",
      " [2015]\n",
      " [1990]\n",
      " [2000]\n",
      " [2010]\n",
      " [2015]\n",
      " [1990]\n",
      " [2000]\n",
      " [2010]\n",
      " [2015]\n",
      " [1990]\n",
      " [2000]\n",
      " [2010]\n",
      " [2015]\n",
      " [1990]\n",
      " [2000]\n",
      " [2010]\n",
      " [2015]\n",
      " [1990]\n",
      " [2000]\n",
      " [2010]\n",
      " [2015]\n",
      " [2000]\n",
      " [2010]\n",
      " [2015]\n",
      " [1990]\n",
      " [2000]\n",
      " [2010]\n",
      " [2015]\n",
      " [1990]\n",
      " [2000]\n",
      " [2010]\n",
      " [2015]\n",
      " [1990]\n",
      " [2000]\n",
      " [2010]\n",
      " [2015]\n",
      " [1990]\n",
      " [2000]\n",
      " [2010]\n",
      " [1990]\n",
      " [2000]\n",
      " [2010]\n",
      " [2015]\n",
      " [1990]\n",
      " [2000]\n",
      " [2010]\n",
      " [2015]\n",
      " [2000]\n",
      " [2010]\n",
      " [2015]\n",
      " [2000]\n",
      " [2010]\n",
      " [2015]\n",
      " [2000]\n",
      " [2010]\n",
      " [2015]\n",
      " [1990]\n",
      " [2000]\n",
      " [2010]\n",
      " [2015]\n",
      " [1990]\n",
      " [2000]\n",
      " [2010]\n",
      " [2015]\n",
      " [1990]\n",
      " [2000]\n",
      " [2010]\n",
      " [1990]\n",
      " [2000]\n",
      " [2010]\n",
      " [2015]\n",
      " [1990]\n",
      " [2000]\n",
      " [2010]\n",
      " [2015]\n",
      " [2000]\n",
      " [2010]\n",
      " [2015]\n",
      " [1990]\n",
      " [2000]\n",
      " [2010]\n",
      " [2015]\n",
      " [1990]\n",
      " [2000]\n",
      " [2010]\n",
      " [2015]\n",
      " [1990]\n",
      " [2000]\n",
      " [2010]\n",
      " [2015]\n",
      " [1990]\n",
      " [2000]\n",
      " [2010]\n",
      " [2015]\n",
      " [1990]\n",
      " [2000]\n",
      " [2010]\n",
      " [2015]\n",
      " [1990]\n",
      " [1990]\n",
      " [2000]\n",
      " [2010]\n",
      " [2015]\n",
      " [1990]\n",
      " [2000]\n",
      " [2010]\n",
      " [2015]\n",
      " [1990]\n",
      " [2000]\n",
      " [2010]\n",
      " [2015]\n",
      " [1990]\n",
      " [2000]\n",
      " [2010]\n",
      " [2015]\n",
      " [1990]\n",
      " [2000]\n",
      " [2010]\n",
      " [2015]\n",
      " [1990]\n",
      " [2000]\n",
      " [2015]\n",
      " [1990]\n",
      " [2000]\n",
      " [2010]\n",
      " [2015]\n",
      " [1990]\n",
      " [2000]\n",
      " [2010]\n",
      " [2015]\n",
      " [1990]\n",
      " [2000]\n",
      " [2010]\n",
      " [2015]\n",
      " [2010]\n",
      " [1990]\n",
      " [2000]\n",
      " [2010]\n",
      " [2015]\n",
      " [1990]\n",
      " [2000]\n",
      " [2010]\n",
      " [2015]\n",
      " [2000]\n",
      " [2010]\n",
      " [2015]\n",
      " [2000]\n",
      " [2010]\n",
      " [2015]\n",
      " [1990]\n",
      " [2000]\n",
      " [2010]\n",
      " [2015]\n",
      " [1990]\n",
      " [2000]\n",
      " [2010]\n",
      " [2015]\n",
      " [2000]\n",
      " [2010]\n",
      " [2015]\n",
      " [1990]\n",
      " [1990]\n",
      " [2000]\n",
      " [2010]\n",
      " [2015]\n",
      " [1990]\n",
      " [2000]\n",
      " [2010]\n",
      " [2015]\n",
      " [1990]\n",
      " [2000]\n",
      " [2010]\n",
      " [2015]\n",
      " [1990]\n",
      " [2000]\n",
      " [2010]\n",
      " [2015]\n",
      " [1990]\n",
      " [2000]\n",
      " [2010]\n",
      " [2015]\n",
      " [1990]\n",
      " [2000]\n",
      " [2010]\n",
      " [2015]\n",
      " [1990]\n",
      " [2000]\n",
      " [2010]\n",
      " [2015]\n",
      " [1990]\n",
      " [2000]\n",
      " [2010]\n",
      " [2015]\n",
      " [2000]\n",
      " [2010]\n",
      " [2015]\n",
      " [1990]\n",
      " [2000]\n",
      " [2010]\n",
      " [2015]\n",
      " [1990]\n",
      " [2000]\n",
      " [2010]\n",
      " [2015]\n",
      " [2010]\n",
      " [2015]\n",
      " [1990]\n",
      " [2000]\n",
      " [2010]\n",
      " [2015]\n",
      " [1990]\n",
      " [2000]\n",
      " [2010]\n",
      " [2015]\n",
      " [1990]\n",
      " [2000]\n",
      " [2010]\n",
      " [2015]\n",
      " [1990]\n",
      " [2000]\n",
      " [2010]\n",
      " [2015]\n",
      " [1990]\n",
      " [2000]\n",
      " [2010]\n",
      " [2015]\n",
      " [1990]\n",
      " [2000]\n",
      " [2010]\n",
      " [2015]\n",
      " [1990]\n",
      " [2000]\n",
      " [2010]\n",
      " [2015]\n",
      " [1990]\n",
      " [2000]\n",
      " [2010]\n",
      " [2015]\n",
      " [1990]\n",
      " [2000]\n",
      " [2010]\n",
      " [2015]\n",
      " [1990]\n",
      " [2000]\n",
      " [2010]\n",
      " [2015]\n",
      " [1990]\n",
      " [2000]\n",
      " [2010]\n",
      " [2015]\n",
      " [1990]\n",
      " [2000]\n",
      " [2010]\n",
      " [2015]\n",
      " [1990]\n",
      " [2000]\n",
      " [2010]\n",
      " [2015]\n",
      " [1990]\n",
      " [2000]\n",
      " [2010]\n",
      " [2015]\n",
      " [1990]\n",
      " [2000]\n",
      " [2010]\n",
      " [2015]\n",
      " [1990]\n",
      " [2000]\n",
      " [2010]\n",
      " [2015]\n",
      " [1990]\n",
      " [2000]\n",
      " [2010]\n",
      " [2015]\n",
      " [2010]\n",
      " [1990]\n",
      " [2000]\n",
      " [2010]\n",
      " [2015]\n",
      " [2000]\n",
      " [2010]\n",
      " [2015]\n",
      " [2000]\n",
      " [2010]\n",
      " [2015]\n",
      " [1990]\n",
      " [2000]\n",
      " [2010]\n",
      " [2015]\n",
      " [1990]\n",
      " [2000]\n",
      " [2010]\n",
      " [2015]\n",
      " [2010]\n",
      " [2015]\n",
      " [2010]\n",
      " [2015]\n",
      " [1990]\n",
      " [2000]\n",
      " [2010]\n",
      " [2015]\n",
      " [2000]\n",
      " [2010]\n",
      " [2015]\n",
      " [1990]\n",
      " [2000]\n",
      " [2010]\n",
      " [2015]\n",
      " [1990]\n",
      " [2000]\n",
      " [2010]\n",
      " [2015]\n",
      " [1990]\n",
      " [2000]\n",
      " [2010]\n",
      " [2015]\n",
      " [2000]\n",
      " [2010]\n",
      " [2015]\n",
      " [2015]\n",
      " [1990]\n",
      " [2000]\n",
      " [2010]\n",
      " [2015]\n",
      " [1990]\n",
      " [2000]\n",
      " [2010]\n",
      " [2015]\n",
      " [1990]\n",
      " [2000]\n",
      " [2010]\n",
      " [2015]\n",
      " [1990]\n",
      " [2000]\n",
      " [2010]\n",
      " [1990]\n",
      " [2000]\n",
      " [2010]\n",
      " [2015]\n",
      " [1990]\n",
      " [2000]\n",
      " [2010]\n",
      " [2015]\n",
      " [1990]\n",
      " [2000]\n",
      " [2010]\n",
      " [2015]\n",
      " [1990]\n",
      " [2000]\n",
      " [2010]\n",
      " [2015]\n",
      " [1990]\n",
      " [2000]\n",
      " [2010]\n",
      " [2015]\n",
      " [1990]\n",
      " [2000]\n",
      " [2010]\n",
      " [2015]\n",
      " [1990]\n",
      " [2000]\n",
      " [2010]\n",
      " [2015]\n",
      " [2000]\n",
      " [2010]\n",
      " [2015]\n",
      " [2000]\n",
      " [2010]\n",
      " [1990]\n",
      " [2000]\n",
      " [2010]\n",
      " [2000]\n",
      " [2010]\n",
      " [2000]\n",
      " [2010]\n",
      " [2015]\n",
      " [1990]\n",
      " [2000]\n",
      " [2010]\n",
      " [2015]\n",
      " [1990]\n",
      " [2000]\n",
      " [2010]\n",
      " [2015]\n",
      " [1990]\n",
      " [2000]\n",
      " [2010]\n",
      " [2015]\n",
      " [1990]\n",
      " [2000]\n",
      " [2010]\n",
      " [2015]\n",
      " [2000]\n",
      " [2010]\n",
      " [2015]\n",
      " [1990]\n",
      " [2000]\n",
      " [2010]\n",
      " [2015]]\n",
      " \n",
      "[   -8800    33900     7600    -1400  -182600  -316400  -223400  -104800\n",
      "        0        0        0        0  -206810  -226800   709680     6250\n",
      "     2510     3600     3590     9080    14160       10       10       20\n",
      "       20        0    -3200     -990        0    26110    19900    26820\n",
      "     -110        0   -14070    -6790   -11710   -11160     9930     9930\n",
      "     1980     1980  -270330  -201540  -211760  -238690 -3780940 -3950790\n",
      " -1539180 -1453040     4800    36200    19200    12000    -8250        0\n",
      "    17140        0   -90250   -69700   -56000   -56000   -47100   -47980\n",
      "   -41300   -37520      300      300      300      -20      -20        0\n",
      "        0   -30000   -30000   -30000   -30000    57100    90820   174160\n",
      "   122920  1986000  2360980  1936770  1936790  -222260  -192770  -134630\n",
      "  -198550   -12000   -12000   -12000   -13800    -5020     1400    16370\n",
      "    16370     3500      400     3420    37700    49700    50400    11600\n",
      "     4020     1490     7640      750        0        0        0       40\n",
      "    37760    10070     6110   -90170   -70230   -41800   -64270    -4500\n",
      "    -4500    -4500    -4500    -8360    -8360    -8360     9710    17000\n",
      "     3480   -73000   -73000   -73000        0        0        0        0\n",
      "        0        0        0        0    57030   -20360    33400    -4560\n",
      "    -4290    -3300    -3430    -6110    -5060   -11880   -11880     6180\n",
      "        0        0     5400     5500     2000        0        0        0\n",
      "        0        0        0        0        0        0      -90      -70\n",
      "      130      -60   -57200   -48660   -27360   -11600   -34700    -3790\n",
      "    -4440   -11690    -9200   -20950   -20280   -22330   -20910    10730\n",
      "    12520     2890    -1560     1280     1480      700      640   365300\n",
      "   190500   266400   266400 -1726500  -162080  -578940     1400      700\n",
      "        0        0    16870     9000     6860     5470        0        0\n",
      "        0        0    53810      -30     3740     3800     3890      140\n",
      "      140        0        0     4880     4430    12710    13110     3860\n",
      "     3870   -30260   -30260   -30260   -30260        0        0        0\n",
      "        0    15000     3400     2800   -66900   -42000   -42000   -42000\n",
      "   -42000        0        0        0        0   -79000   -79000   -79000\n",
      "        0       90      150      200      200    -5440    -5440    -5440\n",
      "    -5450       90     -350      -20       90     -340     -130      -50\n",
      "      -50  -221030  -143800  -122480  -127770     3010     2380       20\n",
      "        0        0        0        0    -8810    -8000    -1110    -1110\n",
      "        0        0     2120    16800     2020    11560  -219000  -221590\n",
      "  -206430  -239250  -435000  -342700  -289710  -289710        0        0\n",
      "        0        0    10880    18130        0        0     1420     1400\n",
      "    -1730      930    47820     -230     -300     9200  -100000  -121120\n",
      "   -56120  -100000   -61690   -12420   -12420   -12420  -163300  -163310\n",
      "  -163310  -163300   -45730   -21230   -21230   -21230    -1900    -1100\n",
      "     7800     7800   -16530   -11420   -11420   -11410   -12170    -9910\n",
      "   -30900   -33530  -255420  -342140  -414250  -279340  -115070  -124800\n",
      "  -171050  -172830    17700    27000    18200    12600    12000        0\n",
      "        0        0        0    14900    69200    13610   586710   -41030\n",
      "    76230        0        0        0        0      -30      -30     -620\n",
      "     -620   -40000   -40000     1310      620      220       70     -250\n",
      "     -180     1400      200    -2030   -76750   -76750   -76750   -76750\n",
      "   -36400   -36400   -36400   -36400    -7500    -8900   -10000   -10000\n",
      "   145140     1170     4200  -170080    -3680    -4100    -9640   -11080\n",
      "    10000    -9000   -18600        0     4270     3850     3440     3440\n",
      "     6000     4870     3550  -372000  -372000  -372000  -469000   -36300\n",
      "   107500    -2400   -37600    -9320    -2960    -2960    -2960        0\n",
      "        0        0        0     2390     1960     1530     1530    36490\n",
      "    93470   109440   118010   -41250   -41250   -41250   -41250     3800\n",
      "    21800     6600    10500    19200   108600   518400   275000    36230\n",
      "    37740    38810    39960    28050        0        0        0        0\n",
      "  -287500  -164600  -164400   -90420   240810   160400   134760   116250\n",
      " -7818000 -5117000 -4801000 -5150000   -35800  -188180  -188210   -46070\n",
      "   -46070   -46070   -46070]\n"
     ]
    }
   ],
   "source": [
    "# This step divides the data into attributes (inputs) and labels(outputs)\n",
    "X = my_data.iloc[:, :-1].values\n",
    "X = my_data[['Year']].values\n",
    "y = my_data.iloc[:, -1].values\n",
    "print(X)\n",
    "print(\" \")\n",
    "print(y)"
   ]
  },
  {
   "cell_type": "code",
   "execution_count": 19,
   "id": "ad444360",
   "metadata": {},
   "outputs": [
    {
     "data": {
      "text/plain": [
       "array([['DZA', 1990, -8800],\n",
       "       ['DZA', 2000, 33900],\n",
       "       ['DZA', 2010, 7600],\n",
       "       ...,\n",
       "       ['ZWE', 2000, -46070],\n",
       "       ['ZWE', 2010, -46070],\n",
       "       ['ZWE', 2015, -46070]], dtype=object)"
      ]
     },
     "execution_count": 19,
     "metadata": {},
     "output_type": "execute_result"
    }
   ],
   "source": [
    "# Get the features\n",
    "features = my_data.loc[: , my_data.columns != 'status'].values[: ,1:]\n",
    "features"
   ]
  },
  {
   "cell_type": "markdown",
   "id": "f4123bb0",
   "metadata": {},
   "source": [
    "# Splitting dataset into test and train"
   ]
  },
  {
   "cell_type": "code",
   "execution_count": 20,
   "id": "94d1d358",
   "metadata": {},
   "outputs": [],
   "source": [
    "# This step is to split the data into training\n",
    "from sklearn.model_selection import train_test_split\n",
    "X_train, X_test, y_train, y_test = train_test_split(X,y,test_size = 0.2, random_state = 0)"
   ]
  },
  {
   "cell_type": "code",
   "execution_count": 21,
   "id": "ff5ce287",
   "metadata": {},
   "outputs": [
    {
     "data": {
      "text/plain": [
       "(380, 380)"
      ]
     },
     "execution_count": 21,
     "metadata": {},
     "output_type": "execute_result"
    }
   ],
   "source": [
    "len(X_train),len(y_train)"
   ]
  },
  {
   "cell_type": "markdown",
   "id": "f93c0683",
   "metadata": {},
   "source": [
    "# Linear Regression"
   ]
  },
  {
   "cell_type": "code",
   "execution_count": 22,
   "id": "56f2f72e",
   "metadata": {},
   "outputs": [
    {
     "name": "stdout",
     "output_type": "stream",
     "text": [
      "Training complete\n"
     ]
    }
   ],
   "source": [
    "# Training the algorithm\n",
    "from sklearn.linear_model import LinearRegression \n",
    "regressor = LinearRegression()\n",
    "regressor.fit(X_train, y_train)\n",
    "print(\"Training complete\")"
   ]
  },
  {
   "cell_type": "code",
   "execution_count": 23,
   "id": "3385a515",
   "metadata": {},
   "outputs": [],
   "source": [
    "# Making Prediction\n",
    "y_pred = regressor.predict(X_test)"
   ]
  },
  {
   "cell_type": "code",
   "execution_count": 24,
   "id": "cc332ee4",
   "metadata": {},
   "outputs": [
    {
     "data": {
      "text/html": [
       "<div>\n",
       "<style scoped>\n",
       "    .dataframe tbody tr th:only-of-type {\n",
       "        vertical-align: middle;\n",
       "    }\n",
       "\n",
       "    .dataframe tbody tr th {\n",
       "        vertical-align: top;\n",
       "    }\n",
       "\n",
       "    .dataframe thead th {\n",
       "        text-align: right;\n",
       "    }\n",
       "</style>\n",
       "<table border=\"1\" class=\"dataframe\">\n",
       "  <thead>\n",
       "    <tr style=\"text-align: right;\">\n",
       "      <th></th>\n",
       "      <th>Actual</th>\n",
       "      <th>Predicted</th>\n",
       "    </tr>\n",
       "  </thead>\n",
       "  <tbody>\n",
       "    <tr>\n",
       "      <th>0</th>\n",
       "      <td>15000</td>\n",
       "      <td>-91618.570424</td>\n",
       "    </tr>\n",
       "    <tr>\n",
       "      <th>1</th>\n",
       "      <td>0</td>\n",
       "      <td>-91618.570424</td>\n",
       "    </tr>\n",
       "    <tr>\n",
       "      <th>2</th>\n",
       "      <td>620</td>\n",
       "      <td>-39360.736731</td>\n",
       "    </tr>\n",
       "    <tr>\n",
       "      <th>3</th>\n",
       "      <td>0</td>\n",
       "      <td>-126457.126219</td>\n",
       "    </tr>\n",
       "    <tr>\n",
       "      <th>4</th>\n",
       "      <td>16370</td>\n",
       "      <td>-39360.736731</td>\n",
       "    </tr>\n",
       "    <tr>\n",
       "      <th>...</th>\n",
       "      <td>...</td>\n",
       "      <td>...</td>\n",
       "    </tr>\n",
       "    <tr>\n",
       "      <th>90</th>\n",
       "      <td>-127770</td>\n",
       "      <td>-39360.736731</td>\n",
       "    </tr>\n",
       "    <tr>\n",
       "      <th>91</th>\n",
       "      <td>365300</td>\n",
       "      <td>-126457.126219</td>\n",
       "    </tr>\n",
       "    <tr>\n",
       "      <th>92</th>\n",
       "      <td>-239250</td>\n",
       "      <td>-39360.736731</td>\n",
       "    </tr>\n",
       "    <tr>\n",
       "      <th>93</th>\n",
       "      <td>39960</td>\n",
       "      <td>-56780.014628</td>\n",
       "    </tr>\n",
       "    <tr>\n",
       "      <th>94</th>\n",
       "      <td>-76750</td>\n",
       "      <td>-126457.126219</td>\n",
       "    </tr>\n",
       "  </tbody>\n",
       "</table>\n",
       "<p>95 rows × 2 columns</p>\n",
       "</div>"
      ],
      "text/plain": [
       "    Actual      Predicted\n",
       "0    15000  -91618.570424\n",
       "1        0  -91618.570424\n",
       "2      620  -39360.736731\n",
       "3        0 -126457.126219\n",
       "4    16370  -39360.736731\n",
       "..     ...            ...\n",
       "90 -127770  -39360.736731\n",
       "91  365300 -126457.126219\n",
       "92 -239250  -39360.736731\n",
       "93   39960  -56780.014628\n",
       "94  -76750 -126457.126219\n",
       "\n",
       "[95 rows x 2 columns]"
      ]
     },
     "execution_count": 24,
     "metadata": {},
     "output_type": "execute_result"
    }
   ],
   "source": [
    "# Comparing Actual vs Prediction\n",
    "df = pd.DataFrame({'Actual': y_test, 'Predicted': y_pred})\n",
    "df"
   ]
  },
  {
   "cell_type": "code",
   "execution_count": 25,
   "id": "08c93af8",
   "metadata": {},
   "outputs": [
    {
     "name": "stdout",
     "output_type": "stream",
     "text": [
      "No of Years=8\n",
      "Predicted Value=-7031458.884861819\n"
     ]
    }
   ],
   "source": [
    "score_pred = np.array([8])\n",
    "score_pred = score_pred.reshape(-1,1)\n",
    "predict = regressor.predict(score_pred)\n",
    "print(\"No of Years={}\".format(8))\n",
    "print(\"Predicted Value={}\".format(predict[0]))"
   ]
  },
  {
   "cell_type": "code",
   "execution_count": 26,
   "id": "c8133c95",
   "metadata": {},
   "outputs": [
    {
     "name": "stdout",
     "output_type": "stream",
     "text": [
      "Mean Absolute Error:  144900.8139542376\n"
     ]
    }
   ],
   "source": [
    "# Evaluating the model\n",
    "from sklearn import metrics\n",
    "print(\"Mean Absolute Error: \",metrics.mean_absolute_error(y_test,y_pred))"
   ]
  },
  {
   "cell_type": "markdown",
   "id": "e5d66567",
   "metadata": {},
   "source": [
    "# Logistic Regression"
   ]
  },
  {
   "cell_type": "code",
   "execution_count": 27,
   "id": "f6b4ab8a",
   "metadata": {},
   "outputs": [
    {
     "data": {
      "text/plain": [
       "LogisticRegression()"
      ]
     },
     "execution_count": 27,
     "metadata": {},
     "output_type": "execute_result"
    }
   ],
   "source": [
    "from sklearn.linear_model import LogisticRegression\n",
    "mod = LogisticRegression()\n",
    "mod.fit(X_train, y_train)"
   ]
  },
  {
   "cell_type": "code",
   "execution_count": 28,
   "id": "b1434949",
   "metadata": {},
   "outputs": [],
   "source": [
    "LogisticRegressionScore = mod.score(X_test, y_test)"
   ]
  },
  {
   "cell_type": "code",
   "execution_count": 29,
   "id": "e82cb3ff",
   "metadata": {},
   "outputs": [
    {
     "data": {
      "text/plain": [
       "array([[0, 0, 0, ..., 0, 0, 0],\n",
       "       [0, 0, 0, ..., 0, 0, 0],\n",
       "       [0, 0, 0, ..., 0, 0, 0],\n",
       "       ...,\n",
       "       [0, 0, 0, ..., 0, 0, 0],\n",
       "       [0, 0, 0, ..., 0, 0, 0],\n",
       "       [0, 0, 0, ..., 0, 0, 0]], dtype=int64)"
      ]
     },
     "execution_count": 29,
     "metadata": {},
     "output_type": "execute_result"
    }
   ],
   "source": [
    "from sklearn.metrics import confusion_matrix, classification_report\n",
    "y_pred_mod = mod.predict(X_test)\n",
    "cf_matrix = confusion_matrix(y_test,y_pred_mod)\n",
    "cf_matrix"
   ]
  },
  {
   "cell_type": "code",
   "execution_count": 30,
   "id": "354a9055",
   "metadata": {},
   "outputs": [
    {
     "data": {
      "text/plain": [
       "Text(0.5, 1.07, 'Confusion Matrix for Logistic Regression')"
      ]
     },
     "execution_count": 30,
     "metadata": {},
     "output_type": "execute_result"
    },
    {
     "data": {
      "image/png": "[encoded data removed]",
      "text/plain": [
       "<Figure size 432x288 with 2 Axes>"
      ]
     },
     "metadata": {
      "needs_background": "light"
     },
     "output_type": "display_data"
    }
   ],
   "source": [
    "sns.heatmap(cf_matrix, annot=True, cmap='inferno_r')\n",
    "plt.title('Confusion Matrix for Logistic Regression',fontsize=12, y=1.07)"
   ]
  },
  {
   "cell_type": "markdown",
   "id": "fe27a4c1",
   "metadata": {},
   "source": [
    "# Accuracy of Machine learning model"
   ]
  },
  {
   "cell_type": "code",
   "execution_count": 31,
   "id": "82ed2c21",
   "metadata": {},
   "outputs": [
    {
     "data": {
      "text/plain": [
       "20.0"
      ]
     },
     "execution_count": 31,
     "metadata": {},
     "output_type": "execute_result"
    }
   ],
   "source": [
    "LogisticRegressionScore*100"
   ]
  },
  {
   "cell_type": "code",
   "execution_count": null,
   "id": "3cda5eec",
   "metadata": {},
   "outputs": [],
   "source": []
  }
 ],
 "metadata": {
  "kernelspec": {
   "display_name": "Python 3",
   "language": "python",
   "name": "python3"
  },
  "language_info": {
   "codemirror_mode": {
    "name": "ipython",
    "version": 3
   },
   "file_extension": ".py",
   "mimetype": "text/x-python",
   "name": "python",
   "nbconvert_exporter": "python",
   "pygments_lexer": "ipython3",
   "version": "3.8.8"
  }
 },
 "nbformat": 4,
 "nbformat_minor": 5
}
