{
  "nbformat": 4,
  "nbformat_minor": 0,
  "metadata": {
    "colab": {
      "name": "Basic ML.ipynb",
      "provenance": [],
      "authorship_tag": "ABX9TyPwn6pVKqzGIU/t7RFerFTU",
      "include_colab_link": true
    },
    "kernelspec": {
      "name": "python3",
      "display_name": "Python 3"
    },
    "language_info": {
      "name": "python"
    }
  },
  "cells": [
    {
      "cell_type": "markdown",
      "metadata": {
        "id": "view-in-github",
        "colab_type": "text"
      },
      "source": [
        "<a href=\"https://colab.research.google.com/github/Akshaya-bhupathi/Basic-ML/blob/main/Basic_ML.ipynb\" target=\"_parent\"><img src=\"https://colab.research.google.com/assets/colab-badge.svg\" alt=\"Open In Colab\"/></a>"
      ]
    },
    {
      "cell_type": "code",
      "metadata": {
        "id": "3bTkOuSORKMi"
      },
      "source": [
        ""
      ],
      "execution_count": null,
      "outputs": []
    },
    {
      "cell_type": "markdown",
      "metadata": {
        "id": "MVMWYqtrRRB4"
      },
      "source": [
        "## Python Program \n",
        "\n",
        "Factorial of a number using recursion"
      ]
    },
    {
      "cell_type": "code",
      "metadata": {
        "colab": {
          "base_uri": "https://localhost:8080/"
        },
        "id": "KiSgjp3FR--D",
        "outputId": "2c2e0469-ecb4-4c69-82f9-9f2dc085d973"
      },
      "source": [
        "def recur_factorial(n):\n",
        "  if n == 1:\n",
        "    return n\n",
        "  else:\n",
        "    return n*recur_factorial(n-1)\n",
        "\n",
        "num = 5\n",
        "if num<0:\n",
        "  print(\"Factorial does not exit\")\n",
        "elif num == 0:\n",
        "  print(\"The Factorial of 0 is 1\")\n",
        "else:\n",
        "  print(\"The Factorial of\",num,\"is\",recur_factorial(num))"
      ],
      "execution_count": 4,
      "outputs": [
        {
          "output_type": "stream",
          "text": [
            "The Factorial of 5 is 120\n"
          ],
          "name": "stdout"
        }
      ]
    },
    {
      "cell_type": "markdown",
      "metadata": {
        "id": "jL-QR4PCT4x-"
      },
      "source": [
        "\n",
        "Minimum and Maximum of a given list"
      ]
    },
    {
      "cell_type": "code",
      "metadata": {
        "colab": {
          "base_uri": "https://localhost:8080/"
        },
        "id": "uX3oe0nOUOxi",
        "outputId": "a668caf7-2b6a-4116-fd4c-efdb5f4a0d61"
      },
      "source": [
        "lst = [10,7,9,8,66,75,99,6]\n",
        "\n",
        "print(\"Maximum number of a list : \",max(lst))\n",
        "print(\"Minimum number of a list : \",min(lst))"
      ],
      "execution_count": 5,
      "outputs": [
        {
          "output_type": "stream",
          "text": [
            "Maximum number of a list :  99\n",
            "Minimum number of a list :  6\n"
          ],
          "name": "stdout"
        }
      ]
    },
    {
      "cell_type": "markdown",
      "metadata": {
        "id": "RTnEuvPAU7An"
      },
      "source": [
        "Sum of n natural numbers"
      ]
    },
    {
      "cell_type": "code",
      "metadata": {
        "colab": {
          "base_uri": "https://localhost:8080/"
        },
        "id": "vEAsYXClVFqZ",
        "outputId": "c71bd0e4-4eec-4ae7-f099-aabf103be655"
      },
      "source": [
        "n = int(input(\"Enter a number : \"))\n",
        "sum = 0\n",
        "i = 0\n",
        "while i<=n:\n",
        "  sum = sum+i\n",
        "  i = i+1\n",
        "print(\"Sum of \",n,\"natural numbers is \",sum)"
      ],
      "execution_count": 7,
      "outputs": [
        {
          "output_type": "stream",
          "text": [
            "Enter a number : 5\n",
            "Sum of  5 natural numbers is  15\n"
          ],
          "name": "stdout"
        }
      ]
    }
  ]
}